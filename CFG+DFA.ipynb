{
  "nbformat": 4,
  "nbformat_minor": 0,
  "metadata": {
    "colab": {
      "name": "CFG+DFA.ipynb",
      "provenance": [],
      "collapsed_sections": []
    },
    "kernelspec": {
      "name": "python3",
      "display_name": "Python 3"
    },
    "language_info": {
      "name": "python"
    }
  },
  "cells": [
    {
      "cell_type": "markdown",
      "source": [
        "CFG"
      ],
      "metadata": {
        "id": "zBn2j8EvUoJh"
      }
    },
    {
      "cell_type": "code",
      "execution_count": null,
      "metadata": {
        "colab": {
          "base_uri": "https://localhost:8080/"
        },
        "id": "kZVdI8QK06BE",
        "outputId": "ccdf921b-d7f5-4305-ad3c-3fbb55fe78bb"
      },
      "outputs": [
        {
          "output_type": "stream",
          "name": "stdout",
          "text": [
            "enter S:AB\n",
            "enter values in  A ->\n",
            "aA|a\n",
            "enter values in  B ->\n",
            "bB|b\n",
            "S-> AB\n",
            "A-> aA|a\n",
            "B-> bB|b\n",
            "False\n"
          ]
        }
      ],
      "source": [
        "S = input(\"enter S:\")\n",
        "\n",
        "list1 = list(S)\n",
        "\n",
        "e1=0\n",
        "e2=0\n",
        "S_dict = {\n",
        "  list1[0]: \"\",\n",
        "  list1[1]: \"\",\n",
        "  };\n",
        "\n",
        "count = int(0)\n",
        "for x in list1:\n",
        "  print('enter values in ', x, '->');\n",
        "  e = input()\n",
        "  S_dict[list1[count]]=e\n",
        "  count = count+1\n",
        "print(\"S->\",S)\n",
        "\n",
        "for key, value in S_dict.items():\n",
        "  print(key, end=\"\")\n",
        "  print(\"->\",value)\n",
        "\n",
        "\n",
        "\n",
        "\n",
        "def recursive_function(current,target):\n",
        "  if(len(current)>len(target)):\n",
        "    return False\n",
        "  if(current ==  target):\n",
        "    return True\n",
        "  \n",
        "  for x in current:\n",
        "    z = x.islower()\n",
        "    \n",
        "    if(z==False):\n",
        "\n",
        "      for y in S_dict.values():\n",
        "        concate = x[0]+y+y[3]\n",
        "        if(concate == target):\n",
        "          return True\n",
        "        recursive_function(concate,target)\n",
        "\n",
        "\n",
        "    \n",
        "  return False\n",
        "\n",
        "\n",
        "value = recursive_function(S,'abb')\n",
        "print(value)    \n",
        "    \n",
        "    \n"
      ]
    },
    {
      "cell_type": "markdown",
      "source": [
        "DFA"
      ],
      "metadata": {
        "id": "UiKZlv6hUlSp"
      }
    },
    {
      "cell_type": "code",
      "source": [
        "CFG={}\n",
        "Start=int(input(\"starting symbol: \"))\n",
        "End=int(input(\"terminal symbol: \"))\n",
        "n=int(input(\"number of arrows: \"))\n",
        "for i in range(0,n):\n",
        "  a,b,c=input().split()\n",
        "  a,b=int(a),int(b)\n",
        "  CFG[(a,c)]=b\n",
        "s=input(\"the sring: \")\n",
        "finalstate=False\n",
        "state=1\n",
        "for i in s:\n",
        "  state=CFG[(state,i)]\n",
        "  if state==End:\n",
        "    finalstate=True\n",
        "  else:\n",
        "    finalstate=False\n",
        "if finalstate:\n",
        "  print(\"accepted\")\n",
        "else:\n",
        "  print(\"not accepted\")"
      ],
      "metadata": {
        "colab": {
          "base_uri": "https://localhost:8080/"
        },
        "id": "Kzzv2Py8OYUu",
        "outputId": "2f6d557c-bb0d-415a-f548-c64f33af019c"
      },
      "execution_count": null,
      "outputs": [
        {
          "output_type": "stream",
          "name": "stdout",
          "text": [
            "starting symbol: 1\n",
            "terminal symbol: 3\n",
            "number of arrows: 6\n",
            "1 1 b\n",
            "1 2 a\n",
            "2 1 b\n",
            "2 3 a\n",
            "3 3 a\n",
            "3 1 b\n",
            "the sring: aabaa\n",
            "accepted\n"
          ]
        }
      ]
    }
  ]
}