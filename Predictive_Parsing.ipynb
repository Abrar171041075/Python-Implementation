{
  "nbformat": 4,
  "nbformat_minor": 0,
  "metadata": {
    "colab": {
      "name": "Predictive  Parsing.ipynb",
      "provenance": []
    },
    "kernelspec": {
      "name": "python3",
      "display_name": "Python 3"
    },
    "language_info": {
      "name": "python"
    }
  },
  "cells": [
    {
      "cell_type": "code",
      "execution_count": null,
      "metadata": {
        "colab": {
          "base_uri": "https://localhost:8080/"
        },
        "id": "ObsmTOM7f1Nq",
        "outputId": "69f419b7-f3a4-4c07-bf2b-ca4a6b1b3adb"
      },
      "outputs": [
        {
          "name": "stdout",
          "output_type": "stream",
          "text": [
            "E i Te\n",
            "E ( Te\n",
            "e + +Te\n",
            "e ) @\n",
            "e $ @\n",
            "T i Ft\n",
            "T ( Ft\n",
            "t + @\n",
            "t * *Ft\n",
            "t ) @\n",
            "t $ @\n",
            "F i i\n",
            "F ( (E)\n",
            "- - -\n"
          ]
        }
      ],
      "source": [
        "import collections\n",
        "table = collections.defaultdict(dict)\n",
        "while True:\n",
        "  non_term, term, prod = input().split()\n",
        "  if non_term == \"-\":\n",
        "    break\n",
        "  table[non_term][term] = prod"
      ]
    },
    {
      "cell_type": "code",
      "source": [
        "matched = \"\"\n",
        "stack = \"E$\"\n",
        "inpt = \"i+i*i$\"\n",
        "while inpt[0] != \"$\" or stack[0] != \"$\":\n",
        "  if inpt[0] == stack[0]:\n",
        "    matched = matched + inpt[0]\n",
        "    stack = stack.replace(inpt[0], \"\", 1)\n",
        "    inpt = inpt.replace(inpt[0], \"\", 1)\n",
        "  else:\n",
        "    if(table[stack[0]][inpt[0]] == \"@\"):\n",
        "      stack = stack.replace(stack[0], \"\", 1)\n",
        "    else:\n",
        "      stack = stack.replace(stack[0], table[stack[0]][inpt[0]], 1)\n",
        "  print(matched, stack, inpt)\n",
        "  print()\n",
        "\n"
      ],
      "metadata": {
        "colab": {
          "base_uri": "https://localhost:8080/"
        },
        "id": "qk7Ad717f9JU",
        "outputId": "99278730-5244-4cd3-dcf2-c5d753c99346"
      },
      "execution_count": null,
      "outputs": [
        {
          "output_type": "stream",
          "name": "stdout",
          "text": [
            " Te$ i+i*i$\n",
            "\n",
            " Fte$ i+i*i$\n",
            "\n",
            " ite$ i+i*i$\n",
            "\n",
            "i te$ +i*i$\n",
            "\n",
            "i e$ +i*i$\n",
            "\n",
            "i +Te$ +i*i$\n",
            "\n",
            "i+ Te$ i*i$\n",
            "\n",
            "i+ Fte$ i*i$\n",
            "\n",
            "i+ ite$ i*i$\n",
            "\n",
            "i+i te$ *i$\n",
            "\n",
            "i+i *Fte$ *i$\n",
            "\n",
            "i+i* Fte$ i$\n",
            "\n",
            "i+i* ite$ i$\n",
            "\n",
            "i+i*i te$ $\n",
            "\n",
            "i+i*i e$ $\n",
            "\n",
            "i+i*i $ $\n",
            "\n"
          ]
        }
      ]
    }
  ]
}